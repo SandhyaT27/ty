{
 "cells": [
  {
   "cell_type": "markdown",
   "metadata": {},
   "source": [
    "# 1. Why are functions advantageous to have in your programs?\n",
    "*Using functions, we can avoid rewriting the same logic/code again and again in a program.\n",
    "*We can call Python functions multiple times in a program and anywhere in a program.\n",
    "*We can track a large Python program easily when it is divided into multiple functions.\n",
    "*Reusability is the main achievement of Python functions.\n",
    "# 2. When does the code in a function run: when it's specified or when it's called?\n",
    "The code in a function runs when it is called.\n",
    "# 3. What statement creates a function?\n",
    "A function is created with the def keyword. The statements in the block of the function must be indented. The def keyword is followed by the function name with round brackets and a colon.\n",
    "Syntax:\n",
    "       def function_Name(Parameters):\n",
    "           ---body of the function---\n",
    "            return expression\n",
    "when we call the function name with the parameters it will be executed.            \n",
    "# 4. What is the difference between a function and a function call?\n",
    "A function call means invoking or calling that function. Unless a function is called there is no use of that function .So, the difference between the function and function call is: A function is a procedure to achieve a particular result while function call is using this function to achieve that task.\n",
    "# 5. How many global scopes are there in a Python program? How many local scopes?\n",
    "There is only one global scope per program execution.Local scope is created whenever we call a function.\n",
    "# 6. What happens to variables in a local scope when the function call returns?\n",
    "When the execution of the function terminates (returns), the local variables are destroyed. So it is not possible for a function to set some local variable to a value, complete its execution;even when it is called again next time, it won't recover the local variable.\n",
    "# 7. What is the concept of a return value? Is it possible to have a return value in an expression?\n",
    "A return statement is used to end the execution of the function call and “returns” the result (value of the expression following the return keyword) to the caller. The statements after the return statements are not executed. \n",
    "If the return statement is without any expression, then the special value “None” is returned.\n",
    "It is possible to have a return value in an expression.\n",
    "# 8. If a function does not have a return statement, what is the return value of a call to that function?\n",
    "If a function does not have a return statement and when a function is called it wont return any value and the type of the function called will be \"None\" type.\n",
    "Eg:\n",
    "def a(x,y):\n",
    "    b=x+y\n",
    "a(1,2)\n",
    "type(a(1,2))\n",
    "output:None\n",
    "# 9. How do you make a function variable refer to the global variable?\n",
    "If we want to refer a function variable to a global variable in a function,we can use the global keyword to declare which variables are global.\n",
    "# 10. What is the data type of None?\n",
    "None is used to define a null value.It is a datatype of class None type object.\n",
    "# 11. What does the sentence import areallyourpetsnamederic do?\n",
    "This statement imports a module named areallyyourpetsnamederic\n",
    "# 12. If you had a bacon() feature in a spam module, what would you call it after importing spam?\n",
    "This function can be called with spam.bacon()\n",
    "# 13. What can you do to save a programme from crashing if it encounters an error?\n",
    "To save a program from crashing place the body of code in \"try\"  clause and the \"except\" clause is used to handle the error that occurs. \n",
    "# 14. What is the purpose of the try clause? What is the purpose of the except clause?\n",
    "The try block is used to check some code for errors that is  the code inside the try block will execute when there is no error in the program. Whereas the code inside the  except block will execute whenever the program encounters some error in the preceding try block."
   ]
  }
 ],
 "metadata": {
  "kernelspec": {
   "display_name": "Python 3",
   "language": "python",
   "name": "python3"
  },
  "language_info": {
   "codemirror_mode": {
    "name": "ipython",
    "version": 3
   },
   "file_extension": ".py",
   "mimetype": "text/x-python",
   "name": "python",
   "nbconvert_exporter": "python",
   "pygments_lexer": "ipython3",
   "version": "3.8.3"
  }
 },
 "nbformat": 4,
 "nbformat_minor": 4
}
