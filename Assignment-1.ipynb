{
 "cells": [
  {
   "cell_type": "markdown",
   "metadata": {},
   "source": [
    "\"\"\"1. In the below elements which of them are values or an expression? eg:- values can be integer or string and expressions\n",
    "    will be mathematical operators.\"\"\"\n",
    "\n",
    " * is a mathematical(arithmetic operator -Multiplication) operator ; So this is a an \"expression\".\n",
    "\n",
    " 'hello' is a string ;So this is a \"value\".\n",
    "\n",
    "-87.8 is a float data type; So this is a \"value\".\n",
    "\n",
    "-  is a mathematical(arithmetic operator - Subtraction) operator; So this is an \"expression\".\n",
    "\n",
    "/ is a mathematical(arithmetic operator - Divide) operator; So this is an \"expression\".\n",
    "\n",
    "+\tis a mathematical(arithmetic operator - Addition) operator; So this is an \"expression\".\n",
    "\n",
    "6 is an integer; So this is a \"value\".\n"
   ]
  },
  {
   "cell_type": "markdown",
   "metadata": {},
   "source": [
    "\"\"\"2. What is the difference between string and variable?\"\"\"\n",
    "\n",
    "STRING   : String is a data type in Python which is a sequence of unicode characters represented by single or double or\n",
    "           triple quotes.A string value can be stored inside a variable.The characters in the string are stored in the form of \n",
    "           indexes(Python is zero indexed,so,indexed from 0 to length of string).\n",
    "VARIABLE : A variable is a meaningful name given to the data storage location in computer memory.When using a variable,we \n",
    "           actually refer to address of the memory where the data is stored.\n"
   ]
  },
  {
   "cell_type": "code",
   "execution_count": 15,
   "metadata": {},
   "outputs": [
    {
     "data": {
      "text/plain": [
       "str"
      ]
     },
     "execution_count": 15,
     "metadata": {},
     "output_type": "execute_result"
    }
   ],
   "source": [
    "#EXAMPLE OF STRING :\n",
    "\"name\"\n",
    "type(\"name\")"
   ]
  },
  {
   "cell_type": "code",
   "execution_count": 16,
   "metadata": {},
   "outputs": [
    {
     "data": {
      "text/plain": [
       "'name'"
      ]
     },
     "execution_count": 16,
     "metadata": {},
     "output_type": "execute_result"
    }
   ],
   "source": [
    "#EXAMPLE OF VARIABLE :\n",
    "a = \"name\" #String is used as storage inside the variable name a,Indexing of a  will be from 0 to 3 .\n",
    "a\n"
   ]
  },
  {
   "cell_type": "markdown",
   "metadata": {},
   "source": [
    "\"\"\"3. Describe three different data types\"\"\".\n",
    "\n",
    "#THREE DIFFERENT DATA TYPES:string,integer,boolean\n",
    "#STRING : A string is a sequence of unicode characters.In Python these are represented by using single or double quotes.\n",
    "          String indexing in Python is zero based.Strings are immutable i.e,we are not able to replace the existing indexed\n",
    "          characters with any other characters.That is we cannot assign a new character in particular index.\n",
    "#INTEGER: This is a numeric data type.There is no maximum limit on the value of an integer.The integer can be of any length\n",
    "          without limitation which can go up to the maximum available memory of the system.\n",
    "#BOOLEAN :Boolean is a data type in Python in which there can be only two types of values :True ,False(2 of the key words in \n",
    "          Python.This is used to represent the truth values of an expression.\n",
    "\n",
    "\n"
   ]
  },
  {
   "cell_type": "code",
   "execution_count": 2,
   "metadata": {},
   "outputs": [
    {
     "data": {
      "text/plain": [
       "str"
      ]
     },
     "execution_count": 2,
     "metadata": {},
     "output_type": "execute_result"
    }
   ],
   "source": [
    "#EXAMPLES OF STRING:\n",
    "a = 'name'\n",
    "type(a)"
   ]
  },
  {
   "cell_type": "code",
   "execution_count": 3,
   "metadata": {},
   "outputs": [
    {
     "data": {
      "text/plain": [
       "int"
      ]
     },
     "execution_count": 3,
     "metadata": {},
     "output_type": "execute_result"
    }
   ],
   "source": [
    "#EXAMPLES OF INTEGER:\n",
    "b = 1\n",
    "type(b)"
   ]
  },
  {
   "cell_type": "code",
   "execution_count": 4,
   "metadata": {},
   "outputs": [
    {
     "data": {
      "text/plain": [
       "bool"
      ]
     },
     "execution_count": 4,
     "metadata": {},
     "output_type": "execute_result"
    }
   ],
   "source": [
    "c = True\n",
    "type(c)"
   ]
  },
  {
   "cell_type": "markdown",
   "metadata": {},
   "source": [
    "\"\"\"4. What is an expression made up of? What do all expressions do?\"\"\"\n",
    "\n",
    "An expression is made up of operators(special symbols)and operands(values that an operator acts on) that needs to be evaluated.\n",
    "All expressions may yield a single value as a result of the computation of sequence of operators and operands.\n",
    "Example : a + b+ 2 #a,b,2 are operands; + is an operator"
   ]
  },
  {
   "cell_type": "markdown",
   "metadata": {},
   "source": [
    "\"\"\"5. This assignment statements, like spam = 10. What is the difference between an expression and a statement?\"\"\"\n",
    "An expression( made of operators+operands) evaluates to a single value due to its computation.\n",
    "Statements are instructions written in source code for execution.Examples: print statement gives the result;\n",
    "#spam = 10 is an assignment statement which assigns value 10 to variable spam;This spam = 10 will not print directly;Only when we call the value spam we get result\n"
   ]
  },
  {
   "cell_type": "code",
   "execution_count": 19,
   "metadata": {},
   "outputs": [],
   "source": [
    "spam = 10 #here no output will be displayed,just value is assigned;if we want the result we need to call the variable name\n"
   ]
  },
  {
   "cell_type": "code",
   "execution_count": 20,
   "metadata": {},
   "outputs": [
    {
     "data": {
      "text/plain": [
       "10"
      ]
     },
     "execution_count": 20,
     "metadata": {},
     "output_type": "execute_result"
    }
   ],
   "source": [
    "spam"
   ]
  },
  {
   "cell_type": "code",
   "execution_count": 3,
   "metadata": {},
   "outputs": [
    {
     "data": {
      "text/plain": [
       "23"
      ]
     },
     "execution_count": 3,
     "metadata": {},
     "output_type": "execute_result"
    }
   ],
   "source": [
    "\"\"\"6. After running the following code, what does the variable bacon contain?\n",
    "bacon = 22\n",
    "bacon + 1\"\"\"\n",
    "bacon = 22\n",
    "bacon + 1 \n"
   ]
  },
  {
   "cell_type": "code",
   "execution_count": 4,
   "metadata": {},
   "outputs": [
    {
     "data": {
      "text/plain": [
       "22"
      ]
     },
     "execution_count": 4,
     "metadata": {},
     "output_type": "execute_result"
    }
   ],
   "source": [
    "bacon #bacon will give 22 as output"
   ]
  },
  {
   "cell_type": "code",
   "execution_count": 7,
   "metadata": {},
   "outputs": [
    {
     "data": {
      "text/plain": [
       "'spamspamspam'"
      ]
     },
     "execution_count": 7,
     "metadata": {},
     "output_type": "execute_result"
    }
   ],
   "source": [
    "\"\"\"7. What should the values of the following two terms be?\n",
    "'spam' + 'spamspam'\n",
    "'spam' * 3\n",
    "\n",
    "\"\"\"\n",
    "#Both the above expressions does the same operation that is concatenation of strings.\n",
    "'spam' + 'spamspam'"
   ]
  },
  {
   "cell_type": "code",
   "execution_count": 8,
   "metadata": {},
   "outputs": [
    {
     "data": {
      "text/plain": [
       "'spamspamspam'"
      ]
     },
     "execution_count": 8,
     "metadata": {},
     "output_type": "execute_result"
    }
   ],
   "source": [
    "'spam' * 3"
   ]
  },
  {
   "cell_type": "markdown",
   "metadata": {},
   "source": [
    "\"\"\"8. Why is eggs a valid variable name while 100 is invalid?\"\"\"\n",
    "#In Python,Variables names can be a group of both the letters and digits but they have to begin with letter or underscore.\n",
    "Since variable name :eggs starts with a letter ,this variable name is valid whereas\n",
    "      variable name :100 starts with a number which is not supported by Python,So this name is invalid."
   ]
  },
  {
   "cell_type": "markdown",
   "metadata": {},
   "source": [
    "\"\"\"9. What three functions can be used to get the integer, floating-point number, or string version of a value?\"\"\"\n",
    "int()    -  can be used to get the integer version of a value.\n",
    "float()  -  can be used to get the floating-point number of a value.\n",
    "str()    -  can be used to get the string version of a value"
   ]
  },
  {
   "cell_type": "code",
   "execution_count": 23,
   "metadata": {},
   "outputs": [
    {
     "data": {
      "text/plain": [
       "1"
      ]
     },
     "execution_count": 23,
     "metadata": {},
     "output_type": "execute_result"
    }
   ],
   "source": [
    "#EXAMPLES:\n",
    "#int()\n",
    "int('1') #can be used for numeric based string;alphabetical letters cannot be executed"
   ]
  },
  {
   "cell_type": "code",
   "execution_count": 24,
   "metadata": {},
   "outputs": [
    {
     "data": {
      "text/plain": [
       "1.0"
      ]
     },
     "execution_count": 24,
     "metadata": {},
     "output_type": "execute_result"
    }
   ],
   "source": [
    "float(1)"
   ]
  },
  {
   "cell_type": "code",
   "execution_count": 25,
   "metadata": {},
   "outputs": [
    {
     "data": {
      "text/plain": [
       "'1'"
      ]
     },
     "execution_count": 25,
     "metadata": {},
     "output_type": "execute_result"
    }
   ],
   "source": [
    "str(1)"
   ]
  },
  {
   "cell_type": "markdown",
   "metadata": {},
   "source": [
    "\"\"\"10. Why does this expression cause an error? How can you fix it?\n",
    "'I have eaten ' + 99 + ' burritos.'\"\"\"\n",
    "\n",
    "#In Python ,Strings can only be concatenated with Strings.In the above expression,String is concatenated with Integer.So,the \n",
    "expression gives error.\n",
    "#We can fix the error by typecasting integer to string using str(99) as follows:"
   ]
  },
  {
   "cell_type": "code",
   "execution_count": 6,
   "metadata": {},
   "outputs": [
    {
     "data": {
      "text/plain": [
       "'I have eaten 99 burritos.'"
      ]
     },
     "execution_count": 6,
     "metadata": {},
     "output_type": "execute_result"
    }
   ],
   "source": [
    "'I have eaten ' + str(99) + ' burritos.'"
   ]
  }
 ],
 "metadata": {
  "kernelspec": {
   "display_name": "Python 3",
   "language": "python",
   "name": "python3"
  },
  "language_info": {
   "codemirror_mode": {
    "name": "ipython",
    "version": 3
   },
   "file_extension": ".py",
   "mimetype": "text/x-python",
   "name": "python",
   "nbconvert_exporter": "python",
   "pygments_lexer": "ipython3",
   "version": "3.8.3"
  }
 },
 "nbformat": 4,
 "nbformat_minor": 4
}
