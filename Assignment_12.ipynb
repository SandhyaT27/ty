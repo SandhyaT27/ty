{
 "cells": [
  {
   "cell_type": "markdown",
   "metadata": {},
   "source": [
    "# 1. In what modes should the PdfFileReader() and PdfFileWriter() File objects will be opened?\n"
   ]
  },
  {
   "cell_type": "markdown",
   "metadata": {},
   "source": [
    "The first one is used to be opened in read-binary mode by passing 'rb'\n",
    "the second one is used to be opened in write binary mode with 'wb'"
   ]
  },
  {
   "cell_type": "markdown",
   "metadata": {},
   "source": [
    "# 2. From a PdfFileReader object, how do you get a Page object for page 5?\n"
   ]
  },
  {
   "cell_type": "markdown",
   "metadata": {},
   "source": [
    "use:\n",
    "    getpage(5) method"
   ]
  },
  {
   "cell_type": "markdown",
   "metadata": {},
   "source": [
    "# 3. What PdfFileReader variable stores the number of pages in the PDF document?\n"
   ]
  },
  {
   "cell_type": "code",
   "execution_count": null,
   "metadata": {},
   "outputs": [],
   "source": [
    "The total number of pages in the document is stored in numPages"
   ]
  },
  {
   "cell_type": "markdown",
   "metadata": {},
   "source": [
    "# 4. If a PdfFileReader object’s PDF is encrypted with the password swordfish, what must you do before you can obtain Page\n",
    "# objects from it?\n"
   ]
  },
  {
   "cell_type": "markdown",
   "metadata": {},
   "source": [
    "1)load pdf [ PyPDF2.PdfFileReader(open('encrypted.pdf','rb'))]\n",
    "2)check whether it is encrypted [pdf.isEncrypted]\n",
    "\n",
    "3)if encrypted use [ pdf.decrypt('swordfish')]\n"
   ]
  },
  {
   "cell_type": "markdown",
   "metadata": {},
   "source": [
    "# 5. What methods do you use to rotate a page?\n"
   ]
  },
  {
   "cell_type": "markdown",
   "metadata": {},
   "source": [
    "use rotateClockwise(90) method to rotate the page clockwise by 90 degrees"
   ]
  },
  {
   "cell_type": "markdown",
   "metadata": {},
   "source": [
    "# 6. What is the difference between a Run object and a Paragraph object?\n"
   ]
  },
  {
   "cell_type": "markdown",
   "metadata": {},
   "source": [
    "word document contain formatted text wrapped within three object levels:\n",
    "lowest level - run objects\n",
    "middle level - paragraph objects\n",
    "highest level - document object\n",
    "Run object is used for inline content,text,picture and other items within a paragraph"
   ]
  },
  {
   "cell_type": "markdown",
   "metadata": {},
   "source": [
    "# 7. How do you obtain a list of Paragraph objects for a Document object that’s stored in a variable named doc?\n"
   ]
  },
  {
   "cell_type": "code",
   "execution_count": 3,
   "metadata": {},
   "outputs": [
    {
     "name": "stdout",
     "output_type": "stream",
     "text": [
      "Requirement already satisfied: python-docx in c:\\users\\admin\\anaconda3\\lib\\site-packages (0.8.11)\n",
      "Requirement already satisfied: lxml>=2.3.2 in c:\\users\\admin\\anaconda3\\lib\\site-packages (from python-docx) (4.5.2)\n",
      "Requirement already satisfied: python-docx in c:\\users\\admin\\anaconda3\\lib\\site-packages (0.8.11)\n",
      "Requirement already satisfied: lxml>=2.3.2 in c:\\users\\admin\\anaconda3\\lib\\site-packages (from python-docx) (4.5.2)\n"
     ]
    }
   ],
   "source": [
    "!pip install python-docx"
   ]
  },
  {
   "cell_type": "markdown",
   "metadata": {},
   "source": [
    "import docx\n",
    "d=docx.Document('Assignment_12.docx')\n",
    "len(d.paragraphs)"
   ]
  },
  {
   "cell_type": "markdown",
   "metadata": {},
   "source": [
    "# 8. What type of object has bold, underline, italic, strike, and outline variables?\n"
   ]
  },
  {
   "cell_type": "markdown",
   "metadata": {},
   "source": [
    "Run object"
   ]
  },
  {
   "cell_type": "markdown",
   "metadata": {},
   "source": [
    "# 9. What is the difference between False, True, and None for the bold variable?\n"
   ]
  },
  {
   "cell_type": "code",
   "execution_count": null,
   "metadata": {},
   "outputs": [],
   "source": [
    "True = on\n",
    "False=off\n",
    "none=not available"
   ]
  },
  {
   "cell_type": "markdown",
   "metadata": {},
   "source": [
    "# 10. How do you create a Document object for a new Word document?\n"
   ]
  },
  {
   "cell_type": "code",
   "execution_count": null,
   "metadata": {},
   "outputs": [],
   "source": [
    "doc=docx.Document()\n",
    "doc.add_paragraph('iHack-PC')\n",
    "doc.save('ineuron.docx')"
   ]
  },
  {
   "cell_type": "markdown",
   "metadata": {},
   "source": [
    "# 11. How do you add a paragraph with the text 'Hello, there!' to a Document object stored in a variable named doc?\n"
   ]
  },
  {
   "cell_type": "code",
   "execution_count": null,
   "metadata": {},
   "outputs": [],
   "source": [
    "doc=docx.Document()\n",
    "doc.add_paragraph('Hello there!')\n",
    "doc.save('hellothere.docx')\n"
   ]
  },
  {
   "cell_type": "markdown",
   "metadata": {},
   "source": [
    "# 12. What integers represent the levels of headings available in Word documents?\n"
   ]
  },
  {
   "cell_type": "markdown",
   "metadata": {},
   "source": [
    "integers 1 to 4 are for various heading levels where 1 is main heading and 4 is lowest subheading"
   ]
  }
 ],
 "metadata": {
  "kernelspec": {
   "display_name": "Python 3",
   "language": "python",
   "name": "python3"
  },
  "language_info": {
   "codemirror_mode": {
    "name": "ipython",
    "version": 3
   },
   "file_extension": ".py",
   "mimetype": "text/x-python",
   "name": "python",
   "nbconvert_exporter": "python",
   "pygments_lexer": "ipython3",
   "version": "3.8.3"
  }
 },
 "nbformat": 4,
 "nbformat_minor": 4
}
